{
 "cells": [
  {
   "cell_type": "markdown",
   "metadata": {
    "deletable": true,
    "editable": true,
    "slideshow": {
     "slide_type": "slide"
    }
   },
   "source": [
    "Visualizing Functional Data\n",
    "===============\n",
    "Hannnah Aizenman\n",
    "\n",
    "Committee: Dr. Michael Grossberg(Advisor), Dr. Robert Haralick, Dr. Huy Vo\n"
   ]
  },
  {
   "cell_type": "markdown",
   "metadata": {
    "deletable": true,
    "editable": true,
    "slideshow": {
     "slide_type": "slide"
    }
   },
   "source": [
    "# Bertin's Semiology of Graphics\n",
    "![retinal](figs/retinal-variables.png)\n",
    "src: Making Maps: A Visual Guide to Map Design for GIS by John Krygier and Denis Wood"
   ]
  },
  {
   "cell_type": "markdown",
   "metadata": {
    "slideshow": {
     "slide_type": "slide"
    }
   },
   "source": [
    "GOG table 10.2 extension of Bertin "
   ]
  },
  {
   "cell_type": "markdown",
   "metadata": {},
   "source": [
    "GOG diagram of how a chart is created?"
   ]
  },
  {
   "cell_type": "markdown",
   "metadata": {
    "deletable": true,
    "editable": true,
    "slideshow": {
     "slide_type": "slide"
    }
   },
   "source": [
    "GOG is not a taxonomy\n",
    "Some classifications have been attempted based on cluster analyses of ordinary users’ visual\n",
    "judgments of similarities among real statistical graphics (e.g., Lohse et al.,1994)."
   ]
  },
  {
   "cell_type": "markdown",
   "metadata": {
    "deletable": true,
    "editable": true,
    "slideshow": {
     "slide_type": "slide"
    }
   },
   "source": [
    "# Visualization Zoo\n",
    "\n",
    "```Along the way, bear in mind that all visualizations share a common \"DNA\"—a set of mappings between data properties and visual attributes such as position, size, shape, and color—and that customized species of visualization might always be constructed by varying these encodings.\n",
    "```"
   ]
  },
  {
   "cell_type": "markdown",
   "metadata": {
    "deletable": true,
    "editable": true
   },
   "source": [
    "# Visualization Zoo\n",
    "* Time-Series\n",
    "* Statistical Distributions\n",
    "* Maps\n",
    "* Hierarchies\n",
    " ![4 types](figs/4type.png)\n",
    " D3/Protovix taxonomies"
   ]
  },
  {
   "cell_type": "code",
   "execution_count": null,
   "metadata": {
    "collapsed": true
   },
   "outputs": [],
   "source": [
    "### More formalized task oriented taxonomies\n",
    "https://apandre.wordpress.com/dataviews/choiceofchart/\n",
    "https://www.amazon.com/Back-Napkin-Solving-Problems-Pictures/dp/1591841992/ref=pd_bbs_sr_1?ie=UTF8&s=books&qid=1213628422\n",
    "http://www.shixialiu.com/publications/InfovisSurvey/paper.pdf\n"
   ]
  },
  {
   "cell_type": "markdown",
   "metadata": {},
   "source": [
    "@ARTICLE{7539364,\n",
    "author={P. Isenberg and T. Isenberg and M. Sedlmair and J. Chen and T. Möller},\n",
    "journal={IEEE Transactions on Visualization and Computer Graphics},\n",
    "title={Visualization as Seen through its Research Paper Keywords},\n",
    "year={2017},\n",
    "volume={23},\n",
    "number={1},\n",
    "pages={771-780},\n",
    "keywords={data visualisation;query processing;research and development;IEEE VIS reviewing process;IEEE visualization conference series;comprehensive multipass analysis;informed keyword choices;online query tool;research paper keywords;visualization paper keywords;visualization subgroups;visualization terminology;Data mining;Data models;Data visualization;Market research;Taxonomy;Visualization;Vocabulary;data analysis;research themes;research topics;taxonomy;theory;visualization history},\n",
    "doi={10.1109/TVCG.2016.2598827},\n",
    "ISSN={1077-2626},\n",
    "month={Jan},}\n",
    "\n"
   ]
  },
  {
   "cell_type": "markdown",
   "metadata": {
    "deletable": true,
    "editable": true,
    "slideshow": {
     "slide_type": "slide"
    }
   },
   "source": [
    "# Munzner\n",
    "\n",
    "What->Why->How? - data oriented more than task oriented\n",
    "\n",
    "figure 3.1\n"
   ]
  },
  {
   "cell_type": "markdown",
   "metadata": {
    "deletable": true,
    "editable": true,
    "slideshow": {
     "slide_type": "slide"
    }
   },
   "source": [
    "Problem sections\n",
    "================"
   ]
  },
  {
   "cell_type": "code",
   "execution_count": null,
   "metadata": {
    "collapsed": true
   },
   "outputs": [],
   "source": [
    "Munzner figure 2.8"
   ]
  },
  {
   "cell_type": "markdown",
   "metadata": {
    "deletable": true,
    "editable": true
   },
   "source": [
    "uni, bi, multi..."
   ]
  },
  {
   "cell_type": "markdown",
   "metadata": {
    "deletable": true,
    "editable": true
   },
   "source": [
    "\\begin{table}%%use conditional notation since it's the same                     \n",
    "\\begin{tabular}\n",
    "   & univarate   & bivariate                & multivariate \\\\\n",
    "0 & RV         & RV_0, RV_1               & RV_0, \\dots, RV_n \\\\\n",
    "1 & RV(x)     & RV_0(x), RV_1(x)    & RV_0(x), \\dots, RV_n(x)\\\\\n",
    "N & RV(x_0,\\dots,x_n)     & RV_0(x_0,\\dots,x_n), RV_1(x_0,\\dots,x_n)    & RV_0(\\\n",
    "x_0,\\dots,xn_i), \\dots, RV_n(x_0,\\dots,x_n)\\\\\n",
    "\\end{tabular}\n",
    " "
   ]
  }
 ],
 "metadata": {
  "celltoolbar": "Slideshow",
  "kernelspec": {
   "display_name": "Python 3",
   "language": "python",
   "name": "python3"
  },
  "language_info": {
   "codemirror_mode": {
    "name": "ipython",
    "version": 3
   },
   "file_extension": ".py",
   "mimetype": "text/x-python",
   "name": "python",
   "nbconvert_exporter": "python",
   "pygments_lexer": "ipython3",
   "version": "3.6.1"
  }
 },
 "nbformat": 4,
 "nbformat_minor": 2
}
