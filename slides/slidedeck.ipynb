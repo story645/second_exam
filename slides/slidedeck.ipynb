{
 "cells": [
  {
   "cell_type": "markdown",
   "metadata": {
    "slideshow": {
     "slide_type": "slide"
    }
   },
   "source": [
    "Visualizing Functional Data\n",
    "===============\n",
    "Hannnah Aizenman\n",
    "\n",
    "Committee: Dr. Michael Grossberg(Advisor), Dr. Robert Haralick, Dr. Huy Vo\n"
   ]
  },
  {
   "cell_type": "markdown",
   "metadata": {
    "slideshow": {
     "slide_type": "slide"
    }
   },
   "source": [
    "# zoology of visualization"
   ]
  },
  {
   "cell_type": "markdown",
   "metadata": {
    "slideshow": {
     "slide_type": "slide"
    }
   },
   "source": [
    "# Munzner\n"
   ]
  },
  {
   "cell_type": "markdown",
   "metadata": {
    "slideshow": {
     "slide_type": "slide"
    }
   },
   "source": [
    "What does dimensionality mean?\n",
    "================"
   ]
  },
  {
   "cell_type": "markdown",
   "metadata": {},
   "source": [
    "Observations or Variables?\n",
    "==============\n",
    "#### table with question of what is dimensionality?\n"
   ]
  },
  {
   "cell_type": "markdown",
   "metadata": {},
   "source": [
    "#how do we seperate attributes from variables?\n",
    "==============================================="
   ]
  },
  {
   "cell_type": "markdown",
   "metadata": {},
   "source": [
    "uni, bi, multi..."
   ]
  },
  {
   "cell_type": "markdown",
   "metadata": {},
   "source": [
    "\\begin{table}%%use conditional notation since it's the same                     \n",
    "\\begin{tabular}\n",
    "   & univarate   & bivariate                & multivariate \\\\\n",
    "0 & RV         & RV_0, RV_1               & RV_0, \\dots, RV_n \\\\\n",
    "1 & RV(x)     & RV_0(x), RV_1(x)    & RV_0(x), \\dots, RV_n(x)\\\\\n",
    "N & RV(x_0,\\dots,x_n)     & RV_0(x_0,\\dots,x_n), RV_1(x_0,\\dots,x_n)    & RV_0(\\\n",
    "x_0,\\dots,xn_i), \\dots, RV_n(x_0,\\dots,x_n)\\\\\n",
    "\\end{tabular}\n",
    " "
   ]
  }
 ],
 "metadata": {
  "celltoolbar": "Slideshow",
  "kernelspec": {
   "display_name": "Python 3",
   "language": "python",
   "name": "python3"
  },
  "language_info": {
   "codemirror_mode": {
    "name": "ipython",
    "version": 3
   },
   "file_extension": ".py",
   "mimetype": "text/x-python",
   "name": "python",
   "nbconvert_exporter": "python",
   "pygments_lexer": "ipython3",
   "version": "3.6.0"
  }
 },
 "nbformat": 4,
 "nbformat_minor": 2
}
