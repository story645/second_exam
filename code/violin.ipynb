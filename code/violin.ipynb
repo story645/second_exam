{
 "cells": [
  {
   "cell_type": "code",
   "execution_count": 2,
   "metadata": {
    "collapsed": false
   },
   "outputs": [
    {
     "data": {
      "text/plain": [
       "<matplotlib.text.Text at 0x10eb1b0b8>"
      ]
     },
     "execution_count": 2,
     "metadata": {},
     "output_type": "execute_result"
    },
    {
     "data": {
      "image/png": "[encoded data removed]",
      "text/plain": [
       "<matplotlib.figure.Figure at 0x10bebb5c0>"
      ]
     },
     "metadata": {},
     "output_type": "display_data"
    }
   ],
   "source": [
    "%matplotlib inline\n",
    "import matplotlib.pyplot as plt\n",
    "import numpy as np\n",
    "\n",
    "def adjacent_values(vals):\n",
    "    q1 = np.percentile(vals, 25)\n",
    "    q3 = np.percentile(vals, 75)\n",
    "    uav = q3 + (q3-q1)*1.5\n",
    "    uav = np.clip(uav, q3, vals[-1])\n",
    "    lav = q1 - (q3-q1)*1.5\n",
    "    lav = np.clip(lav, vals[0], q1)\n",
    "    return [lav, uav]\n",
    "\n",
    "\n",
    "# create test data \n",
    "labs = ['a', 'b', 'c', 'd']\n",
    "data = [sorted(np.random.normal(0, std, 100)) for std in range(6,10)]\n",
    "medians = [np.percentile(d, 50) for d in data]\n",
    "#inter-quantile ranges\n",
    "iqrmin, iqrmax = list(zip(*[np.percentile(d, (25,75)) for d in data]))\n",
    "# upper and lower adjacent values\n",
    "avmin, avmax = list(zip(*[adjacent_values(d) for d in data]))\n",
    "\n",
    "                   \n",
    "# plot the violins\n",
    "fig, ax = plt.subplots(nrows=1, ncols=1, figsize=(7, 5))\n",
    "parts = ax.violinplot(data, showextrema = False)\n",
    "\n",
    "# customize colors\n",
    "for pc in parts['bodies']:\n",
    "    pc.set_facecolor('#D43F3A')\n",
    "    pc.set_edgecolor('black')\n",
    "    pc.set_alpha(1)\n",
    "    \n",
    "#plot median\n",
    "inds = np.arange(1, len(medians)+1)\n",
    "ax.scatter(inds, medians, marker='o', edgecolor='none', color='white', s=50, zorder=3)\n",
    "ax.vlines(inds, avmin, avmax, color='k', linestyle='-', lw=1)\n",
    "ax.vlines(inds, iqrmin, iqrmax, color='k', linestyle='-', lw=5)\n",
    "    \n",
    "ax.set_xticks(inds)\n",
    "ax.set_xticklabels(labs)\n",
    "ax.set_xlim(0.25, inds[-1] +0.75)\n",
    "ax.set_ylim(-30, 30)\n",
    "ax.set_title('customized violin plot')\n"
   ]
  },
  {
   "cell_type": "code",
   "execution_count": 110,
   "metadata": {
    "collapsed": false
   },
   "outputs": [],
   "source": [
    "ax.violinplot?"
   ]
  },
  {
   "cell_type": "code",
   "execution_count": 87,
   "metadata": {
    "collapsed": false
   },
   "outputs": [
    {
     "data": {
      "text/plain": [
       "3"
      ]
     },
     "execution_count": 87,
     "metadata": {},
     "output_type": "execute_result"
    }
   ],
   "source": [
    "i"
   ]
  },
  {
   "cell_type": "code",
   "execution_count": 85,
   "metadata": {
    "collapsed": false
   },
   "outputs": [
    {
     "data": {
      "text/plain": [
       "[-0.35617892650604399,\n",
       " -1.1778897190972966,\n",
       " 1.304687661326271,\n",
       " -0.34188647139065864]"
      ]
     },
     "execution_count": 85,
     "metadata": {},
     "output_type": "execute_result"
    }
   ],
   "source": [
    "medians"
   ]
  },
  {
   "cell_type": "code",
   "execution_count": 88,
   "metadata": {
    "collapsed": true
   },
   "outputs": [],
   "source": [
    "i = np.arange(1, len(medians)+1)"
   ]
  },
  {
   "cell_type": "code",
   "execution_count": 89,
   "metadata": {
    "collapsed": false
   },
   "outputs": [
    {
     "data": {
      "text/plain": [
       "array([1, 2, 3, 4])"
      ]
     },
     "execution_count": 89,
     "metadata": {},
     "output_type": "execute_result"
    }
   ],
   "source": [
    "i"
   ]
  },
  {
   "cell_type": "code",
   "execution_count": 90,
   "metadata": {
    "collapsed": false
   },
   "outputs": [
    {
     "data": {
      "text/plain": [
       "[0.68485242772159793,\n",
       " 2.1203497261713178,\n",
       " 0.52429173673515794,\n",
       " 1.5131962234144114]"
      ]
     },
     "execution_count": 90,
     "metadata": {},
     "output_type": "execute_result"
    }
   ],
   "source": [
    "medians"
   ]
  },
  {
   "cell_type": "code",
   "execution_count": 116,
   "metadata": {
    "collapsed": true
   },
   "outputs": [],
   "source": [
    "import numpy as np\n",
    "a = np.arange(100)"
   ]
  },
  {
   "cell_type": "code",
   "execution_count": 122,
   "metadata": {
    "collapsed": false
   },
   "outputs": [],
   "source": [
    "a, b = np.percentile(a, (25, 75))"
   ]
  },
  {
   "cell_type": "code",
   "execution_count": 123,
   "metadata": {
    "collapsed": false
   },
   "outputs": [
    {
     "data": {
      "text/plain": [
       "24.75"
      ]
     },
     "execution_count": 123,
     "metadata": {},
     "output_type": "execute_result"
    }
   ],
   "source": [
    "a"
   ]
  },
  {
   "cell_type": "code",
   "execution_count": null,
   "metadata": {
    "collapsed": true
   },
   "outputs": [],
   "source": []
  }
 ],
 "metadata": {
  "kernelspec": {
   "display_name": "Python 3",
   "language": "python",
   "name": "python3"
  },
  "language_info": {
   "codemirror_mode": {
    "name": "ipython",
    "version": 3
   },
   "file_extension": ".py",
   "mimetype": "text/x-python",
   "name": "python",
   "nbconvert_exporter": "python",
   "pygments_lexer": "ipython3",
   "version": "3.5.2"
  }
 },
 "nbformat": 4,
 "nbformat_minor": 0
}
